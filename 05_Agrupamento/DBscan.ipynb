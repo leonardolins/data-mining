{
 "cells": [
  {
   "cell_type": "markdown",
   "metadata": {
    "id": "jPySmPjqZc2m"
   },
   "source": [
    "# Clusterização com DBscan"
   ]
  },
  {
   "cell_type": "markdown",
   "metadata": {
    "id": "R30hBozwtZML"
   },
   "source": [
    "## Importação das bibliotecas"
   ]
  },
  {
   "cell_type": "code",
   "execution_count": 1,
   "metadata": {
    "ExecuteTime": {
     "end_time": "2021-12-25T15:55:39.033176Z",
     "start_time": "2021-12-25T15:55:36.250990Z"
    },
    "executionInfo": {
     "elapsed": 1077,
     "status": "ok",
     "timestamp": 1627508719626,
     "user": {
      "displayName": "Manoela Kohler",
      "photoUrl": "https://lh3.googleusercontent.com/a-/AOh14GgpjFfRi8xG4d4lZE0zAaod1dKX0hNyW0qOMUifpA=s64",
      "userId": "11407817634634210712"
     },
     "user_tz": 180
    },
    "id": "gurvCQylYg9N"
   },
   "outputs": [],
   "source": [
    "import pandas as pd\n",
    "import matplotlib.pyplot as plt\n",
    "import numpy as np\n",
    "from sklearn.cluster import DBSCAN, KMeans\n",
    "from sklearn.neighbors import NearestNeighbors\n",
    "\n",
    "#seed\n",
    "seed = 0\n",
    "np.random.seed(seed)"
   ]
  },
  {
   "cell_type": "markdown",
   "metadata": {
    "id": "8sT_jV3jtb2k"
   },
   "source": [
    "## Carregar base de dados"
   ]
  },
  {
   "cell_type": "code",
   "execution_count": 2,
   "metadata": {
    "ExecuteTime": {
     "end_time": "2021-12-25T15:55:39.063919Z",
     "start_time": "2021-12-25T15:55:39.035853Z"
    },
    "colab": {
     "base_uri": "https://localhost:8080/",
     "height": 203
    },
    "executionInfo": {
     "elapsed": 233,
     "status": "ok",
     "timestamp": 1627508730046,
     "user": {
      "displayName": "Manoela Kohler",
      "photoUrl": "https://lh3.googleusercontent.com/a-/AOh14GgpjFfRi8xG4d4lZE0zAaod1dKX0hNyW0qOMUifpA=s64",
      "userId": "11407817634634210712"
     },
     "user_tz": 180
    },
    "id": "vADAuu6PZmbG",
    "outputId": "62169ea4-15dd-441e-c044-9f70b6ee9947"
   },
   "outputs": [
    {
     "data": {
      "text/html": [
       "<div>\n",
       "<style scoped>\n",
       "    .dataframe tbody tr th:only-of-type {\n",
       "        vertical-align: middle;\n",
       "    }\n",
       "\n",
       "    .dataframe tbody tr th {\n",
       "        vertical-align: top;\n",
       "    }\n",
       "\n",
       "    .dataframe thead th {\n",
       "        text-align: right;\n",
       "    }\n",
       "</style>\n",
       "<table border=\"1\" class=\"dataframe\">\n",
       "  <thead>\n",
       "    <tr style=\"text-align: right;\">\n",
       "      <th></th>\n",
       "      <th>0</th>\n",
       "      <th>1</th>\n",
       "    </tr>\n",
       "  </thead>\n",
       "  <tbody>\n",
       "    <tr>\n",
       "      <th>0</th>\n",
       "      <td>-0.001364</td>\n",
       "      <td>0.994355</td>\n",
       "    </tr>\n",
       "    <tr>\n",
       "      <th>1</th>\n",
       "      <td>-0.001335</td>\n",
       "      <td>0.978548</td>\n",
       "    </tr>\n",
       "    <tr>\n",
       "      <th>2</th>\n",
       "      <td>-0.001308</td>\n",
       "      <td>0.963871</td>\n",
       "    </tr>\n",
       "    <tr>\n",
       "      <th>3</th>\n",
       "      <td>-0.001280</td>\n",
       "      <td>0.949193</td>\n",
       "    </tr>\n",
       "    <tr>\n",
       "      <th>4</th>\n",
       "      <td>-0.001251</td>\n",
       "      <td>0.933387</td>\n",
       "    </tr>\n",
       "  </tbody>\n",
       "</table>\n",
       "</div>"
      ],
      "text/plain": [
       "          0         1\n",
       "0 -0.001364  0.994355\n",
       "1 -0.001335  0.978548\n",
       "2 -0.001308  0.963871\n",
       "3 -0.001280  0.949193\n",
       "4 -0.001251  0.933387"
      ]
     },
     "execution_count": 2,
     "metadata": {},
     "output_type": "execute_result"
    }
   ],
   "source": [
    "df = pd.read_csv('bi_data.csv', header=None)\n",
    "df.head()"
   ]
  },
  {
   "cell_type": "code",
   "execution_count": 3,
   "metadata": {
    "ExecuteTime": {
     "end_time": "2021-12-25T15:55:39.076788Z",
     "start_time": "2021-12-25T15:55:39.068354Z"
    },
    "colab": {
     "base_uri": "https://localhost:8080/"
    },
    "executionInfo": {
     "elapsed": 221,
     "status": "ok",
     "timestamp": 1627508736059,
     "user": {
      "displayName": "Manoela Kohler",
      "photoUrl": "https://lh3.googleusercontent.com/a-/AOh14GgpjFfRi8xG4d4lZE0zAaod1dKX0hNyW0qOMUifpA=s64",
      "userId": "11407817634634210712"
     },
     "user_tz": 180
    },
    "id": "XcNcbNtTQyLo",
    "outputId": "a428c514-402b-43ff-f6cc-dd00d581c1eb"
   },
   "outputs": [
    {
     "data": {
      "text/plain": [
       "(6046, 2)"
      ]
     },
     "execution_count": 3,
     "metadata": {},
     "output_type": "execute_result"
    }
   ],
   "source": [
    "df.shape"
   ]
  },
  {
   "cell_type": "markdown",
   "metadata": {
    "id": "KwY4-i61teyT"
   },
   "source": [
    "##Visualizar base"
   ]
  },
  {
   "cell_type": "code",
   "execution_count": 4,
   "metadata": {
    "ExecuteTime": {
     "end_time": "2021-12-25T15:55:39.372218Z",
     "start_time": "2021-12-25T15:55:39.082095Z"
    },
    "colab": {
     "base_uri": "https://localhost:8080/",
     "height": 499
    },
    "executionInfo": {
     "elapsed": 754,
     "status": "ok",
     "timestamp": 1627508794755,
     "user": {
      "displayName": "Manoela Kohler",
      "photoUrl": "https://lh3.googleusercontent.com/a-/AOh14GgpjFfRi8xG4d4lZE0zAaod1dKX0hNyW0qOMUifpA=s64",
      "userId": "11407817634634210712"
     },
     "user_tz": 180
    },
    "id": "nshc98GZZyoN",
    "outputId": "7e511d5d-b478-4d98-8326-419a5db231c3"
   },
   "outputs": [
    {
     "data": {
      "image/png": "[encoded data removed]",
      "text/plain": [
       "<Figure size 720x576 with 1 Axes>"
      ]
     },
     "metadata": {
      "needs_background": "light"
     },
     "output_type": "display_data"
    }
   ],
   "source": [
    "plt.figure(figsize=(10,8))\n",
    "plt.scatter(x=df[0], y=df[1])\n",
    "plt.title('BI data')\n",
    "plt.show()"
   ]
  },
  {
   "cell_type": "markdown",
   "metadata": {
    "id": "wHykBfieMDI0"
   },
   "source": [
    "## Rodar DBscan\n",
    "Parâmetros:\n",
    "- eps: especifica como os pontos próximos devem ser considerados para serem considerados parte de um cluster.\n",
    "Se pequeno, grande parte dos dados não será agrupada. \n",
    "Quanto maior, mais os clusters serão mesclados e a maioria dos objetos estará no mesmo cluster.\n",
    "\n",
    "- min_samples: o número mínimo de pontos para formar uma região densa.\n",
    "min_samples ??? D + 1. \n",
    "Valores maiores geralmente são melhores para conjuntos de dados com ruído. \n"
   ]
  },
  {
   "cell_type": "markdown",
   "metadata": {
    "id": "sYleaGk9ocO2"
   },
   "source": [
    "KNN\n",
    "1. Para estimar os valores de 'eps' e 'min_samples', vamos utilizar o knn.\n",
    "A ideia é calcular a distância média de cada registro para seus k vizinhos mais próximos. O valor de k deve ser especificado pelo usuário e corresponde ao 'min_samples'. \n",
    "2. Em seguida, as k-distâncias são plotadas em ordem. O objetivo é determinar o 'joelho', que corresponde ao parâmetro ótimo de 'eps'."
   ]
  },
  {
   "cell_type": "code",
   "execution_count": 5,
   "metadata": {
    "ExecuteTime": {
     "end_time": "2021-12-25T15:55:39.409562Z",
     "start_time": "2021-12-25T15:55:39.374991Z"
    },
    "executionInfo": {
     "elapsed": 216,
     "status": "ok",
     "timestamp": 1627509168345,
     "user": {
      "displayName": "Manoela Kohler",
      "photoUrl": "https://lh3.googleusercontent.com/a-/AOh14GgpjFfRi8xG4d4lZE0zAaod1dKX0hNyW0qOMUifpA=s64",
      "userId": "11407817634634210712"
     },
     "user_tz": 180
    },
    "id": "bSQn4aQLoOPC"
   },
   "outputs": [],
   "source": [
    "neighbors = 4\n",
    "knn = NearestNeighbors(n_neighbors=neighbors).fit(df)\n",
    "distances, indices = knn.kneighbors(df) #indice dos pontos mais próximos\n",
    "distance = sorted(distances[:,neighbors-1]) # ordena a distancia para 4 vizinhos, indica começa com 0."
   ]
  },
  {
   "cell_type": "code",
   "execution_count": 6,
   "metadata": {
    "ExecuteTime": {
     "end_time": "2021-12-25T15:55:39.673026Z",
     "start_time": "2021-12-25T15:55:39.413060Z"
    },
    "colab": {
     "base_uri": "https://localhost:8080/",
     "height": 295
    },
    "executionInfo": {
     "elapsed": 747,
     "status": "ok",
     "timestamp": 1627509329364,
     "user": {
      "displayName": "Manoela Kohler",
      "photoUrl": "https://lh3.googleusercontent.com/a-/AOh14GgpjFfRi8xG4d4lZE0zAaod1dKX0hNyW0qOMUifpA=s64",
      "userId": "11407817634634210712"
     },
     "user_tz": 180
    },
    "id": "R2B_ss7RRdIg",
    "outputId": "46743362-1151-4ae3-aad9-aef54eed1a77"
   },
   "outputs": [
    {
     "data": {
      "image/png": "[encoded data removed]",
      "text/plain": [
       "<Figure size 432x288 with 1 Axes>"
      ]
     },
     "metadata": {
      "needs_background": "light"
     },
     "output_type": "display_data"
    }
   ],
   "source": [
    "# Distancias ordenadas\n",
    "plt.plot(indices[:,0], distance)\n",
    "plt.title('KNN distâncias')\n",
    "plt.xlabel('registros')\n",
    "plt.ylabel('distância')\n",
    "\n",
    "# Determinar o eps pelo joelho do gráfico\n",
    "eps=0.02\n",
    "plt.plot([0,len(df)], [eps, eps])\n",
    "\n",
    "plt.show()"
   ]
  },
  {
   "cell_type": "markdown",
   "metadata": {
    "id": "OsF6s20iTRUo"
   },
   "source": [
    "### DBscan"
   ]
  },
  {
   "cell_type": "code",
   "execution_count": 7,
   "metadata": {
    "ExecuteTime": {
     "end_time": "2021-12-25T15:55:40.255411Z",
     "start_time": "2021-12-25T15:55:40.182682Z"
    },
    "executionInfo": {
     "elapsed": 2,
     "status": "ok",
     "timestamp": 1627509379425,
     "user": {
      "displayName": "Manoela Kohler",
      "photoUrl": "https://lh3.googleusercontent.com/a-/AOh14GgpjFfRi8xG4d4lZE0zAaod1dKX0hNyW0qOMUifpA=s64",
      "userId": "11407817634634210712"
     },
     "user_tz": 180
    },
    "id": "pZ3fftfyMFib"
   },
   "outputs": [],
   "source": [
    "model = DBSCAN(eps=eps, min_samples=neighbors)\n",
    "model = model.fit(df)"
   ]
  },
  {
   "cell_type": "code",
   "execution_count": 8,
   "metadata": {
    "ExecuteTime": {
     "end_time": "2021-12-25T15:55:40.688337Z",
     "start_time": "2021-12-25T15:55:40.676632Z"
    },
    "colab": {
     "base_uri": "https://localhost:8080/"
    },
    "executionInfo": {
     "elapsed": 210,
     "status": "ok",
     "timestamp": 1627509408967,
     "user": {
      "displayName": "Manoela Kohler",
      "photoUrl": "https://lh3.googleusercontent.com/a-/AOh14GgpjFfRi8xG4d4lZE0zAaod1dKX0hNyW0qOMUifpA=s64",
      "userId": "11407817634634210712"
     },
     "user_tz": 180
    },
    "id": "odmmFTiOm8Dx",
    "outputId": "238d5739-949c-45b0-ed0d-2d46e397fa1e"
   },
   "outputs": [
    {
     "data": {
      "text/plain": [
       "{-1: 13, 0: 3903, 1: 323, 2: 1467, 3: 340}"
      ]
     },
     "execution_count": 8,
     "metadata": {},
     "output_type": "execute_result"
    }
   ],
   "source": [
    "# Analisar quantidade de clusters e quantidade de registros em cada cluster\n",
    "labels = model.labels_\n",
    "unique, counts = np.unique(labels, return_counts=True)\n",
    "dict(zip(unique, counts))\n",
    "# Cluster -1 é ruído."
   ]
  },
  {
   "cell_type": "code",
   "execution_count": 9,
   "metadata": {
    "ExecuteTime": {
     "end_time": "2021-12-25T15:55:41.963484Z",
     "start_time": "2021-12-25T15:55:41.046896Z"
    },
    "colab": {
     "base_uri": "https://localhost:8080/",
     "height": 265
    },
    "executionInfo": {
     "elapsed": 742,
     "status": "ok",
     "timestamp": 1627509580397,
     "user": {
      "displayName": "Manoela Kohler",
      "photoUrl": "https://lh3.googleusercontent.com/a-/AOh14GgpjFfRi8xG4d4lZE0zAaod1dKX0hNyW0qOMUifpA=s64",
      "userId": "11407817634634210712"
     },
     "user_tz": 180
    },
    "id": "Nw0FWdJrMFoz",
    "outputId": "3d69239c-01dc-418e-b2e3-884e97a60aed"
   },
   "outputs": [
    {
     "data": {
      "image/png": "[encoded data removed]",
      "text/plain": [
       "<Figure size 432x288 with 1 Axes>"
      ]
     },
     "metadata": {
      "needs_background": "light"
     },
     "output_type": "display_data"
    }
   ],
   "source": [
    "# Gráfico da separação dos grupos formados\n",
    "fig = plt.scatter(x=df[0], y=df[1], c=model.labels_, cmap='Set1') #set1 mapa de cores qualitativo https://matplotlib.org/stable/tutorials/colors/colormaps.html\n",
    "handles, lbls = fig.legend_elements(prop=\"colors\")\n",
    "plt.legend(handles, lbls, loc='center right', bbox_to_anchor=(1.2, 0.5), title='Cluster')\n",
    "plt.show()"
   ]
  },
  {
   "cell_type": "code",
   "execution_count": 10,
   "metadata": {
    "ExecuteTime": {
     "end_time": "2021-12-25T15:55:41.985690Z",
     "start_time": "2021-12-25T15:55:41.967061Z"
    },
    "colab": {
     "base_uri": "https://localhost:8080/",
     "height": 453
    },
    "executionInfo": {
     "elapsed": 214,
     "status": "ok",
     "timestamp": 1627509624998,
     "user": {
      "displayName": "Manoela Kohler",
      "photoUrl": "https://lh3.googleusercontent.com/a-/AOh14GgpjFfRi8xG4d4lZE0zAaod1dKX0hNyW0qOMUifpA=s64",
      "userId": "11407817634634210712"
     },
     "user_tz": 180
    },
    "id": "u3lih40QMFqs",
    "outputId": "229eba77-2a55-406a-842f-0ec5b514cb4b"
   },
   "outputs": [
    {
     "data": {
      "text/html": [
       "<div>\n",
       "<style scoped>\n",
       "    .dataframe tbody tr th:only-of-type {\n",
       "        vertical-align: middle;\n",
       "    }\n",
       "\n",
       "    .dataframe tbody tr th {\n",
       "        vertical-align: top;\n",
       "    }\n",
       "\n",
       "    .dataframe thead th {\n",
       "        text-align: right;\n",
       "    }\n",
       "</style>\n",
       "<table border=\"1\" class=\"dataframe\">\n",
       "  <thead>\n",
       "    <tr style=\"text-align: right;\">\n",
       "      <th></th>\n",
       "      <th>0</th>\n",
       "      <th>1</th>\n",
       "    </tr>\n",
       "  </thead>\n",
       "  <tbody>\n",
       "    <tr>\n",
       "      <th>5670</th>\n",
       "      <td>0.486163</td>\n",
       "      <td>0.930649</td>\n",
       "    </tr>\n",
       "    <tr>\n",
       "      <th>5671</th>\n",
       "      <td>0.590654</td>\n",
       "      <td>0.818792</td>\n",
       "    </tr>\n",
       "    <tr>\n",
       "      <th>5672</th>\n",
       "      <td>0.537994</td>\n",
       "      <td>0.597315</td>\n",
       "    </tr>\n",
       "    <tr>\n",
       "      <th>5673</th>\n",
       "      <td>0.457886</td>\n",
       "      <td>0.615213</td>\n",
       "    </tr>\n",
       "    <tr>\n",
       "      <th>5674</th>\n",
       "      <td>0.509576</td>\n",
       "      <td>0.357942</td>\n",
       "    </tr>\n",
       "    <tr>\n",
       "      <th>5675</th>\n",
       "      <td>0.873466</td>\n",
       "      <td>0.948546</td>\n",
       "    </tr>\n",
       "    <tr>\n",
       "      <th>5676</th>\n",
       "      <td>0.924760</td>\n",
       "      <td>0.903803</td>\n",
       "    </tr>\n",
       "    <tr>\n",
       "      <th>5677</th>\n",
       "      <td>0.894400</td>\n",
       "      <td>0.706935</td>\n",
       "    </tr>\n",
       "    <tr>\n",
       "      <th>5678</th>\n",
       "      <td>0.970730</td>\n",
       "      <td>0.718121</td>\n",
       "    </tr>\n",
       "    <tr>\n",
       "      <th>5679</th>\n",
       "      <td>0.958036</td>\n",
       "      <td>0.534676</td>\n",
       "    </tr>\n",
       "    <tr>\n",
       "      <th>5680</th>\n",
       "      <td>0.865055</td>\n",
       "      <td>0.465324</td>\n",
       "    </tr>\n",
       "    <tr>\n",
       "      <th>5681</th>\n",
       "      <td>0.192385</td>\n",
       "      <td>0.689038</td>\n",
       "    </tr>\n",
       "    <tr>\n",
       "      <th>5682</th>\n",
       "      <td>0.195883</td>\n",
       "      <td>0.310962</td>\n",
       "    </tr>\n",
       "  </tbody>\n",
       "</table>\n",
       "</div>"
      ],
      "text/plain": [
       "             0         1\n",
       "5670  0.486163  0.930649\n",
       "5671  0.590654  0.818792\n",
       "5672  0.537994  0.597315\n",
       "5673  0.457886  0.615213\n",
       "5674  0.509576  0.357942\n",
       "5675  0.873466  0.948546\n",
       "5676  0.924760  0.903803\n",
       "5677  0.894400  0.706935\n",
       "5678  0.970730  0.718121\n",
       "5679  0.958036  0.534676\n",
       "5680  0.865055  0.465324\n",
       "5681  0.192385  0.689038\n",
       "5682  0.195883  0.310962"
      ]
     },
     "execution_count": 10,
     "metadata": {},
     "output_type": "execute_result"
    }
   ],
   "source": [
    "# Quais registros são ruído?\n",
    "df[labels == -1]"
   ]
  },
  {
   "cell_type": "code",
   "execution_count": 14,
   "metadata": {
    "ExecuteTime": {
     "end_time": "2021-12-25T15:56:11.426318Z",
     "start_time": "2021-12-25T15:56:11.419990Z"
    }
   },
   "outputs": [],
   "source": [
    "df_sem_ruido = df[labels != -1]"
   ]
  },
  {
   "cell_type": "code",
   "execution_count": 15,
   "metadata": {
    "ExecuteTime": {
     "end_time": "2021-12-25T15:56:14.578226Z",
     "start_time": "2021-12-25T15:56:14.571455Z"
    }
   },
   "outputs": [
    {
     "data": {
      "text/plain": [
       "6033"
      ]
     },
     "execution_count": 15,
     "metadata": {},
     "output_type": "execute_result"
    }
   ],
   "source": [
    "len(df_sem_ruido)"
   ]
  },
  {
   "cell_type": "code",
   "execution_count": 16,
   "metadata": {
    "ExecuteTime": {
     "end_time": "2021-12-25T15:56:17.410391Z",
     "start_time": "2021-12-25T15:56:17.403048Z"
    }
   },
   "outputs": [
    {
     "data": {
      "text/plain": [
       "6033"
      ]
     },
     "execution_count": 16,
     "metadata": {},
     "output_type": "execute_result"
    }
   ],
   "source": [
    "len(model.labels_[model.labels_ !=-1])"
   ]
  },
  {
   "cell_type": "code",
   "execution_count": 18,
   "metadata": {
    "ExecuteTime": {
     "end_time": "2021-12-25T15:57:10.401875Z",
     "start_time": "2021-12-25T15:57:09.913629Z"
    }
   },
   "outputs": [
    {
     "data": {
      "image/png": "[encoded data removed]",
      "text/plain": [
       "<Figure size 432x288 with 1 Axes>"
      ]
     },
     "metadata": {
      "needs_background": "light"
     },
     "output_type": "display_data"
    }
   ],
   "source": [
    "# Gráfico da separação dos grupos formados (sem ruído)\n",
    "fig = plt.scatter(x=df_sem_ruido[0], y=df_sem_ruido[1], c=model.labels_[model.labels_ !=-1], cmap='Set1') #set1 mapa de cores qualitativo https://matplotlib.org/stable/tutorials/colors/colormaps.html\n",
    "handles, lbls = fig.legend_elements(prop=\"colors\")\n",
    "plt.legend(handles, lbls, loc='center right', bbox_to_anchor=(1.2, 0.5), title='Cluster')\n",
    "plt.show()"
   ]
  },
  {
   "cell_type": "markdown",
   "metadata": {
    "id": "pcfQoHcfthsD"
   },
   "source": [
    "## Comparar com o Kmeans"
   ]
  },
  {
   "cell_type": "code",
   "execution_count": 19,
   "metadata": {
    "ExecuteTime": {
     "end_time": "2021-12-25T15:57:58.196609Z",
     "start_time": "2021-12-25T15:57:58.043188Z"
    },
    "executionInfo": {
     "elapsed": 207,
     "status": "ok",
     "timestamp": 1627509658439,
     "user": {
      "displayName": "Manoela Kohler",
      "photoUrl": "https://lh3.googleusercontent.com/a-/AOh14GgpjFfRi8xG4d4lZE0zAaod1dKX0hNyW0qOMUifpA=s64",
      "userId": "11407817634634210712"
     },
     "user_tz": 180
    },
    "id": "8oYLur8EZcCO"
   },
   "outputs": [],
   "source": [
    "kmeans = KMeans(n_clusters=4, random_state=seed) #quatro grupos\n",
    "kmeans = kmeans.fit(df)"
   ]
  },
  {
   "cell_type": "code",
   "execution_count": 20,
   "metadata": {
    "ExecuteTime": {
     "end_time": "2021-12-25T15:57:59.104744Z",
     "start_time": "2021-12-25T15:57:59.097854Z"
    },
    "colab": {
     "base_uri": "https://localhost:8080/"
    },
    "executionInfo": {
     "elapsed": 218,
     "status": "ok",
     "timestamp": 1627509660670,
     "user": {
      "displayName": "Manoela Kohler",
      "photoUrl": "https://lh3.googleusercontent.com/a-/AOh14GgpjFfRi8xG4d4lZE0zAaod1dKX0hNyW0qOMUifpA=s64",
      "userId": "11407817634634210712"
     },
     "user_tz": 180
    },
    "id": "rqlM6lg2aZfE",
    "outputId": "7bc83e0b-d4ef-49df-c5c4-f45689df5ea6"
   },
   "outputs": [
    {
     "data": {
      "text/plain": [
       "array([2, 2, 2, ..., 0, 0, 0], dtype=int32)"
      ]
     },
     "execution_count": 20,
     "metadata": {},
     "output_type": "execute_result"
    }
   ],
   "source": [
    "# Grupos de cada registro da base\n",
    "kmeans.labels_"
   ]
  },
  {
   "cell_type": "code",
   "execution_count": 21,
   "metadata": {
    "ExecuteTime": {
     "end_time": "2021-12-25T15:58:00.482276Z",
     "start_time": "2021-12-25T15:58:00.474417Z"
    },
    "colab": {
     "base_uri": "https://localhost:8080/"
    },
    "executionInfo": {
     "elapsed": 205,
     "status": "ok",
     "timestamp": 1627509664589,
     "user": {
      "displayName": "Manoela Kohler",
      "photoUrl": "https://lh3.googleusercontent.com/a-/AOh14GgpjFfRi8xG4d4lZE0zAaod1dKX0hNyW0qOMUifpA=s64",
      "userId": "11407817634634210712"
     },
     "user_tz": 180
    },
    "id": "WCk4O5xKaZjU",
    "outputId": "697eeea7-0678-4848-f1dc-f2049454eb66"
   },
   "outputs": [
    {
     "data": {
      "text/plain": [
       "array([[0.18510107, 0.23608457],\n",
       "       [0.73526458, 0.17277306],\n",
       "       [0.18115537, 0.7579386 ],\n",
       "       [0.73141895, 0.72453664]])"
      ]
     },
     "execution_count": 21,
     "metadata": {},
     "output_type": "execute_result"
    }
   ],
   "source": [
    "kmeans.cluster_centers_"
   ]
  },
  {
   "cell_type": "code",
   "execution_count": 22,
   "metadata": {
    "ExecuteTime": {
     "end_time": "2021-12-25T15:58:06.085434Z",
     "start_time": "2021-12-25T15:58:05.610657Z"
    },
    "colab": {
     "base_uri": "https://localhost:8080/",
     "height": 265
    },
    "executionInfo": {
     "elapsed": 350,
     "status": "ok",
     "timestamp": 1627509681851,
     "user": {
      "displayName": "Manoela Kohler",
      "photoUrl": "https://lh3.googleusercontent.com/a-/AOh14GgpjFfRi8xG4d4lZE0zAaod1dKX0hNyW0qOMUifpA=s64",
      "userId": "11407817634634210712"
     },
     "user_tz": 180
    },
    "id": "4p301hXjcGO6",
    "outputId": "b5e1691b-438e-48f5-e292-941d9321c356"
   },
   "outputs": [
    {
     "data": {
      "image/png": "[encoded data removed]",
      "text/plain": [
       "<Figure size 432x288 with 1 Axes>"
      ]
     },
     "metadata": {
      "needs_background": "light"
     },
     "output_type": "display_data"
    }
   ],
   "source": [
    "# Gráfico da separação dos grupos formados\n",
    "fig = plt.scatter(x=df[0], y=df[1], c=kmeans.labels_, cmap='Set1')\n",
    "handles, labels = fig.legend_elements(prop=\"colors\")\n",
    "plt.legend(handles, labels, loc='center right', bbox_to_anchor=(1.2, 0.5), title='Cluster')\n",
    "plt.show()"
   ]
  },
  {
   "cell_type": "markdown",
   "metadata": {
    "id": "BH95AejYZYQ0"
   },
   "source": [
    "## KNN (Finding the Nearest Neighbors)"
   ]
  },
  {
   "cell_type": "markdown",
   "metadata": {},
   "source": [
    "fonte: https://scikit-learn.org/stable/modules/neighbors.html#unsupervised-neighbors"
   ]
  },
  {
   "cell_type": "code",
   "execution_count": null,
   "metadata": {
    "ExecuteTime": {
     "end_time": "2021-12-25T15:04:37.585923Z",
     "start_time": "2021-12-25T15:04:37.574284Z"
    }
   },
   "outputs": [],
   "source": [
    "X = np.array([[-1, -1], [-2, -1], [-3, -2], [1, 1], [2, 1], [3, 2]])\n",
    "nbrs = NearestNeighbors(n_neighbors=2, algorithm='ball_tree').fit(X) #calcula a distancia entre 2 pares\n",
    "dist, ind = nbrs.kneighbors(X)"
   ]
  },
  {
   "cell_type": "code",
   "execution_count": null,
   "metadata": {
    "ExecuteTime": {
     "end_time": "2021-12-25T15:04:38.540586Z",
     "start_time": "2021-12-25T15:04:38.291997Z"
    }
   },
   "outputs": [],
   "source": [
    "plt.scatter(x=X[:,0], y=X[:,1])\n",
    "plt.show()"
   ]
  },
  {
   "cell_type": "code",
   "execution_count": null,
   "metadata": {
    "ExecuteTime": {
     "end_time": "2021-12-25T15:04:38.859604Z",
     "start_time": "2021-12-25T15:04:38.852379Z"
    }
   },
   "outputs": [],
   "source": [
    "ind #mostra os pares de pontos mais próximos da matrix X, começado por 0 (primeiro ponto)"
   ]
  },
  {
   "cell_type": "code",
   "execution_count": null,
   "metadata": {
    "ExecuteTime": {
     "end_time": "2021-12-25T15:04:39.771823Z",
     "start_time": "2021-12-25T15:04:39.764668Z"
    }
   },
   "outputs": [],
   "source": [
    "dist"
   ]
  },
  {
   "cell_type": "code",
   "execution_count": null,
   "metadata": {
    "ExecuteTime": {
     "end_time": "2021-12-25T15:04:40.875697Z",
     "start_time": "2021-12-25T15:04:40.868516Z"
    }
   },
   "outputs": [],
   "source": [
    "dist[:,1]"
   ]
  },
  {
   "cell_type": "code",
   "execution_count": null,
   "metadata": {
    "ExecuteTime": {
     "end_time": "2021-12-25T15:04:42.373065Z",
     "start_time": "2021-12-25T15:04:42.180752Z"
    }
   },
   "outputs": [],
   "source": [
    "plt.plot(ind[:,0], sorted(dist[:,1]))\n",
    "plt.show()"
   ]
  },
  {
   "cell_type": "code",
   "execution_count": null,
   "metadata": {},
   "outputs": [],
   "source": []
  }
 ],
 "metadata": {
  "colab": {
   "collapsed_sections": [],
   "name": " DBscan.ipynb",
   "provenance": []
  },
  "kernelspec": {
   "display_name": "Python 3 (ipykernel)",
   "language": "python",
   "name": "python3"
  },
  "language_info": {
   "codemirror_mode": {
    "name": "ipython",
    "version": 3
   },
   "file_extension": ".py",
   "mimetype": "text/x-python",
   "name": "python",
   "nbconvert_exporter": "python",
   "pygments_lexer": "ipython3",
   "version": "3.8.11"
  },
  "toc": {
   "base_numbering": 1,
   "nav_menu": {},
   "number_sections": true,
   "sideBar": true,
   "skip_h1_title": false,
   "title_cell": "Table of Contents",
   "title_sidebar": "Contents",
   "toc_cell": false,
   "toc_position": {},
   "toc_section_display": true,
   "toc_window_display": false
  }
 },
 "nbformat": 4,
 "nbformat_minor": 1
}
