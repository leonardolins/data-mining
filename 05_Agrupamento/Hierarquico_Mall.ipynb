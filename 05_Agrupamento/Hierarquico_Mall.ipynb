{
 "cells": [
  {
   "cell_type": "markdown",
   "metadata": {
    "id": "jPySmPjqZc2m"
   },
   "source": [
    "# Clusterização com modelo de agrupamento hierárquico: mall customer"
   ]
  },
  {
   "cell_type": "markdown",
   "metadata": {
    "id": "R30hBozwtZML"
   },
   "source": [
    "## Importação das bibliotecas"
   ]
  },
  {
   "cell_type": "code",
   "execution_count": 1,
   "metadata": {
    "ExecuteTime": {
     "end_time": "2021-12-23T15:30:44.562810Z",
     "start_time": "2021-12-23T15:30:42.031571Z"
    },
    "executionInfo": {
     "elapsed": 793,
     "status": "ok",
     "timestamp": 1616717101105,
     "user": {
      "displayName": "Manoela Kohler",
      "photoUrl": "https://lh3.googleusercontent.com/a-/AOh14GgpjFfRi8xG4d4lZE0zAaod1dKX0hNyW0qOMUifpA=s64",
      "userId": "11407817634634210712"
     },
     "user_tz": 180
    },
    "id": "gurvCQylYg9N"
   },
   "outputs": [],
   "source": [
    "import pandas as pd\n",
    "import matplotlib.pyplot as plt\n",
    "from sklearn.cluster import AgglomerativeClustering\n",
    "import scipy.cluster.hierarchy as shc\n",
    "import numpy as np\n",
    "\n",
    "#seed\n",
    "seed = 0\n",
    "np.random.seed(seed)"
   ]
  },
  {
   "cell_type": "markdown",
   "metadata": {
    "id": "8sT_jV3jtb2k"
   },
   "source": [
    "## Carregar base de dados"
   ]
  },
  {
   "cell_type": "code",
   "execution_count": 2,
   "metadata": {
    "ExecuteTime": {
     "end_time": "2021-12-23T15:30:45.689869Z",
     "start_time": "2021-12-23T15:30:45.657434Z"
    },
    "colab": {
     "base_uri": "https://localhost:8080/",
     "height": 237
    },
    "executionInfo": {
     "elapsed": 1939,
     "status": "ok",
     "timestamp": 1616717102255,
     "user": {
      "displayName": "Manoela Kohler",
      "photoUrl": "https://lh3.googleusercontent.com/a-/AOh14GgpjFfRi8xG4d4lZE0zAaod1dKX0hNyW0qOMUifpA=s64",
      "userId": "11407817634634210712"
     },
     "user_tz": 180
    },
    "id": "vADAuu6PZmbG",
    "outputId": "4efcf4a2-db1d-49e8-c267-5de8dff7353a"
   },
   "outputs": [
    {
     "data": {
      "text/html": [
       "<div>\n",
       "<style scoped>\n",
       "    .dataframe tbody tr th:only-of-type {\n",
       "        vertical-align: middle;\n",
       "    }\n",
       "\n",
       "    .dataframe tbody tr th {\n",
       "        vertical-align: top;\n",
       "    }\n",
       "\n",
       "    .dataframe thead th {\n",
       "        text-align: right;\n",
       "    }\n",
       "</style>\n",
       "<table border=\"1\" class=\"dataframe\">\n",
       "  <thead>\n",
       "    <tr style=\"text-align: right;\">\n",
       "      <th></th>\n",
       "      <th>Genre</th>\n",
       "      <th>Age</th>\n",
       "      <th>AnnualIncome</th>\n",
       "      <th>SpendingScore</th>\n",
       "    </tr>\n",
       "    <tr>\n",
       "      <th>CustomerID</th>\n",
       "      <th></th>\n",
       "      <th></th>\n",
       "      <th></th>\n",
       "      <th></th>\n",
       "    </tr>\n",
       "  </thead>\n",
       "  <tbody>\n",
       "    <tr>\n",
       "      <th>1</th>\n",
       "      <td>Male</td>\n",
       "      <td>19</td>\n",
       "      <td>15</td>\n",
       "      <td>39</td>\n",
       "    </tr>\n",
       "    <tr>\n",
       "      <th>2</th>\n",
       "      <td>Male</td>\n",
       "      <td>21</td>\n",
       "      <td>15</td>\n",
       "      <td>81</td>\n",
       "    </tr>\n",
       "    <tr>\n",
       "      <th>3</th>\n",
       "      <td>Female</td>\n",
       "      <td>20</td>\n",
       "      <td>16</td>\n",
       "      <td>6</td>\n",
       "    </tr>\n",
       "    <tr>\n",
       "      <th>4</th>\n",
       "      <td>Female</td>\n",
       "      <td>23</td>\n",
       "      <td>16</td>\n",
       "      <td>77</td>\n",
       "    </tr>\n",
       "    <tr>\n",
       "      <th>5</th>\n",
       "      <td>Female</td>\n",
       "      <td>31</td>\n",
       "      <td>17</td>\n",
       "      <td>40</td>\n",
       "    </tr>\n",
       "  </tbody>\n",
       "</table>\n",
       "</div>"
      ],
      "text/plain": [
       "             Genre  Age  AnnualIncome  SpendingScore\n",
       "CustomerID                                          \n",
       "1             Male   19            15             39\n",
       "2             Male   21            15             81\n",
       "3           Female   20            16              6\n",
       "4           Female   23            16             77\n",
       "5           Female   31            17             40"
      ]
     },
     "execution_count": 2,
     "metadata": {},
     "output_type": "execute_result"
    }
   ],
   "source": [
    "df = pd.read_csv('Mall_Customers.csv', index_col=0)\n",
    "df.head()"
   ]
  },
  {
   "cell_type": "markdown",
   "metadata": {
    "id": "VHY0q8kDGi_r"
   },
   "source": [
    "Vamos trabalhar com duas dimensões para fazer análises gráficas"
   ]
  },
  {
   "cell_type": "code",
   "execution_count": 3,
   "metadata": {
    "ExecuteTime": {
     "end_time": "2021-12-23T15:30:46.790964Z",
     "start_time": "2021-12-23T15:30:46.775972Z"
    },
    "colab": {
     "base_uri": "https://localhost:8080/",
     "height": 237
    },
    "executionInfo": {
     "elapsed": 1684,
     "status": "ok",
     "timestamp": 1616717102255,
     "user": {
      "displayName": "Manoela Kohler",
      "photoUrl": "https://lh3.googleusercontent.com/a-/AOh14GgpjFfRi8xG4d4lZE0zAaod1dKX0hNyW0qOMUifpA=s64",
      "userId": "11407817634634210712"
     },
     "user_tz": 180
    },
    "id": "9s6UY2vSGjFQ",
    "outputId": "f043b877-ff7a-4db2-fb14-c129ee804e4c"
   },
   "outputs": [
    {
     "data": {
      "text/html": [
       "<div>\n",
       "<style scoped>\n",
       "    .dataframe tbody tr th:only-of-type {\n",
       "        vertical-align: middle;\n",
       "    }\n",
       "\n",
       "    .dataframe tbody tr th {\n",
       "        vertical-align: top;\n",
       "    }\n",
       "\n",
       "    .dataframe thead th {\n",
       "        text-align: right;\n",
       "    }\n",
       "</style>\n",
       "<table border=\"1\" class=\"dataframe\">\n",
       "  <thead>\n",
       "    <tr style=\"text-align: right;\">\n",
       "      <th></th>\n",
       "      <th>AnnualIncome</th>\n",
       "      <th>SpendingScore</th>\n",
       "    </tr>\n",
       "    <tr>\n",
       "      <th>CustomerID</th>\n",
       "      <th></th>\n",
       "      <th></th>\n",
       "    </tr>\n",
       "  </thead>\n",
       "  <tbody>\n",
       "    <tr>\n",
       "      <th>1</th>\n",
       "      <td>15</td>\n",
       "      <td>39</td>\n",
       "    </tr>\n",
       "    <tr>\n",
       "      <th>2</th>\n",
       "      <td>15</td>\n",
       "      <td>81</td>\n",
       "    </tr>\n",
       "    <tr>\n",
       "      <th>3</th>\n",
       "      <td>16</td>\n",
       "      <td>6</td>\n",
       "    </tr>\n",
       "    <tr>\n",
       "      <th>4</th>\n",
       "      <td>16</td>\n",
       "      <td>77</td>\n",
       "    </tr>\n",
       "    <tr>\n",
       "      <th>5</th>\n",
       "      <td>17</td>\n",
       "      <td>40</td>\n",
       "    </tr>\n",
       "  </tbody>\n",
       "</table>\n",
       "</div>"
      ],
      "text/plain": [
       "            AnnualIncome  SpendingScore\n",
       "CustomerID                             \n",
       "1                     15             39\n",
       "2                     15             81\n",
       "3                     16              6\n",
       "4                     16             77\n",
       "5                     17             40"
      ]
     },
     "execution_count": 3,
     "metadata": {},
     "output_type": "execute_result"
    }
   ],
   "source": [
    "df = df.loc[:,'AnnualIncome':'SpendingScore']\n",
    "df.head()"
   ]
  },
  {
   "cell_type": "markdown",
   "metadata": {
    "id": "KwY4-i61teyT"
   },
   "source": [
    "##Visualizar base"
   ]
  },
  {
   "cell_type": "code",
   "execution_count": 4,
   "metadata": {
    "ExecuteTime": {
     "end_time": "2021-12-23T15:30:48.816819Z",
     "start_time": "2021-12-23T15:30:48.569799Z"
    },
    "colab": {
     "base_uri": "https://localhost:8080/",
     "height": 265
    },
    "executionInfo": {
     "elapsed": 902,
     "status": "ok",
     "timestamp": 1616717102256,
     "user": {
      "displayName": "Manoela Kohler",
      "photoUrl": "https://lh3.googleusercontent.com/a-/AOh14GgpjFfRi8xG4d4lZE0zAaod1dKX0hNyW0qOMUifpA=s64",
      "userId": "11407817634634210712"
     },
     "user_tz": 180
    },
    "id": "nshc98GZZyoN",
    "outputId": "f4c77e45-40b8-4f57-ff08-f12b35c892f5"
   },
   "outputs": [
    {
     "data": {
      "image/png": "[encoded data removed]",
      "text/plain": [
       "<Figure size 432x288 with 1 Axes>"
      ]
     },
     "metadata": {
      "needs_background": "light"
     },
     "output_type": "display_data"
    }
   ],
   "source": [
    "plt.scatter(x=df['AnnualIncome'], y=df['SpendingScore'])\n",
    "plt.show()"
   ]
  },
  {
   "cell_type": "markdown",
   "metadata": {
    "id": "pcfQoHcfthsD"
   },
   "source": [
    "##Rodar o agrupamento aglomerativo e analisar o dendograma"
   ]
  },
  {
   "cell_type": "code",
   "execution_count": 5,
   "metadata": {
    "ExecuteTime": {
     "end_time": "2021-12-23T15:30:57.017086Z",
     "start_time": "2021-12-23T15:30:50.201076Z"
    },
    "colab": {
     "base_uri": "https://localhost:8080/",
     "height": 444
    },
    "executionInfo": {
     "elapsed": 5901,
     "status": "ok",
     "timestamp": 1616717388532,
     "user": {
      "displayName": "Manoela Kohler",
      "photoUrl": "https://lh3.googleusercontent.com/a-/AOh14GgpjFfRi8xG4d4lZE0zAaod1dKX0hNyW0qOMUifpA=s64",
      "userId": "11407817634634210712"
     },
     "user_tz": 180
    },
    "id": "F02GYWYK7oro",
    "outputId": "920cf7d5-6cfa-4396-c713-7b9813832ec6"
   },
   "outputs": [
    {
     "data": {
      "image/png": "[encoded data removed]",
      "text/plain": [
       "<Figure size 720x504 with 1 Axes>"
      ]
     },
     "metadata": {
      "needs_background": "light"
     },
     "output_type": "display_data"
    }
   ],
   "source": [
    "plt.figure(figsize=(10, 7))\n",
    "plt.title(\"Dendograma\")\n",
    "dend = shc.dendrogram(shc.linkage(df))"
   ]
  },
  {
   "cell_type": "code",
   "execution_count": 14,
   "metadata": {
    "colab": {
     "base_uri": "https://localhost:8080/",
     "height": 444
    },
    "executionInfo": {
     "elapsed": 5755,
     "status": "ok",
     "timestamp": 1616717396491,
     "user": {
      "displayName": "Manoela Kohler",
      "photoUrl": "https://lh3.googleusercontent.com/a-/AOh14GgpjFfRi8xG4d4lZE0zAaod1dKX0hNyW0qOMUifpA=s64",
      "userId": "11407817634634210712"
     },
     "user_tz": 180
    },
    "id": "P1Nir59RG62c",
    "outputId": "16c3061a-21c7-4090-d28c-072c1ace0172"
   },
   "outputs": [
    {
     "data": {
      "image/png": "[encoded data removed]",
      "text/plain": [
       "<Figure size 720x504 with 1 Axes>"
      ]
     },
     "metadata": {
      "needs_background": "light",
      "tags": []
     },
     "output_type": "display_data"
    }
   ],
   "source": [
    "plt.figure(figsize=(10, 7))\n",
    "plt.title(\"Dendograma\")\n",
    "dend = shc.dendrogram(shc.linkage(df, method='average')) #variar o método para analisar melhor."
   ]
  },
  {
   "cell_type": "code",
   "execution_count": 6,
   "metadata": {
    "ExecuteTime": {
     "end_time": "2021-12-23T15:33:21.150893Z",
     "start_time": "2021-12-23T15:33:21.141026Z"
    },
    "executionInfo": {
     "elapsed": 874,
     "status": "ok",
     "timestamp": 1616717414818,
     "user": {
      "displayName": "Manoela Kohler",
      "photoUrl": "https://lh3.googleusercontent.com/a-/AOh14GgpjFfRi8xG4d4lZE0zAaod1dKX0hNyW0qOMUifpA=s64",
      "userId": "11407817634634210712"
     },
     "user_tz": 180
    },
    "id": "8oYLur8EZcCO"
   },
   "outputs": [],
   "source": [
    "model = AgglomerativeClustering(n_clusters=7)\n",
    "model = model.fit(df)"
   ]
  },
  {
   "cell_type": "code",
   "execution_count": 7,
   "metadata": {
    "ExecuteTime": {
     "end_time": "2021-12-23T15:33:22.861718Z",
     "start_time": "2021-12-23T15:33:22.853355Z"
    },
    "colab": {
     "base_uri": "https://localhost:8080/"
    },
    "executionInfo": {
     "elapsed": 862,
     "status": "ok",
     "timestamp": 1616717416950,
     "user": {
      "displayName": "Manoela Kohler",
      "photoUrl": "https://lh3.googleusercontent.com/a-/AOh14GgpjFfRi8xG4d4lZE0zAaod1dKX0hNyW0qOMUifpA=s64",
      "userId": "11407817634634210712"
     },
     "user_tz": 180
    },
    "id": "rqlM6lg2aZfE",
    "outputId": "fd28e948-43fd-419c-b88b-53fb73d95c1d"
   },
   "outputs": [
    {
     "data": {
      "text/plain": [
       "array([1, 3, 1, 3, 1, 3, 1, 3, 1, 3, 1, 3, 1, 3, 1, 3, 1, 3, 1, 3, 1, 3,\n",
       "       1, 3, 1, 3, 1, 3, 1, 3, 1, 3, 1, 3, 1, 3, 1, 3, 1, 3, 1, 3, 1, 0,\n",
       "       1, 0, 0, 0, 0, 0, 0, 0, 0, 0, 0, 0, 0, 0, 0, 0, 0, 0, 0, 0, 0, 0,\n",
       "       0, 0, 0, 0, 0, 0, 0, 0, 0, 0, 0, 0, 0, 0, 0, 0, 0, 0, 0, 0, 0, 0,\n",
       "       0, 0, 0, 0, 0, 0, 0, 0, 0, 0, 0, 0, 0, 0, 0, 0, 0, 0, 0, 0, 0, 0,\n",
       "       0, 0, 0, 0, 0, 0, 0, 0, 0, 0, 0, 0, 0, 4, 0, 4, 0, 4, 5, 4, 5, 4,\n",
       "       0, 4, 5, 4, 5, 4, 5, 4, 5, 4, 0, 4, 5, 4, 0, 4, 5, 4, 5, 4, 5, 4,\n",
       "       5, 4, 5, 4, 5, 4, 0, 4, 5, 4, 5, 4, 5, 4, 5, 4, 5, 4, 5, 4, 5, 4,\n",
       "       5, 4, 5, 2, 6, 2, 5, 2, 6, 2, 6, 4, 6, 2, 6, 4, 6, 2, 6, 2, 6, 2,\n",
       "       6, 2])"
      ]
     },
     "execution_count": 7,
     "metadata": {},
     "output_type": "execute_result"
    }
   ],
   "source": [
    "# Grupos de cada registro da base\n",
    "model.labels_"
   ]
  },
  {
   "cell_type": "code",
   "execution_count": 8,
   "metadata": {
    "ExecuteTime": {
     "end_time": "2021-12-23T15:33:26.604056Z",
     "start_time": "2021-12-23T15:33:26.596593Z"
    },
    "colab": {
     "base_uri": "https://localhost:8080/"
    },
    "executionInfo": {
     "elapsed": 777,
     "status": "ok",
     "timestamp": 1616717435206,
     "user": {
      "displayName": "Manoela Kohler",
      "photoUrl": "https://lh3.googleusercontent.com/a-/AOh14GgpjFfRi8xG4d4lZE0zAaod1dKX0hNyW0qOMUifpA=s64",
      "userId": "11407817634634210712"
     },
     "user_tz": 180
    },
    "id": "eJtCB9U93jgv",
    "outputId": "d16f6742-62ab-45b6-eeda-fdc58cd49cb2"
   },
   "outputs": [
    {
     "name": "stdout",
     "output_type": "stream",
     "text": [
      "{0: 85, 1: 23, 2: 9, 3: 21, 4: 30, 5: 23, 6: 9}\n"
     ]
    }
   ],
   "source": [
    "unique, counts = np.unique(model.labels_, return_counts=True)\n",
    "print(dict(zip(unique, counts)))"
   ]
  },
  {
   "cell_type": "code",
   "execution_count": 9,
   "metadata": {
    "ExecuteTime": {
     "end_time": "2021-12-23T15:33:30.934723Z",
     "start_time": "2021-12-23T15:33:30.132933Z"
    },
    "colab": {
     "base_uri": "https://localhost:8080/",
     "height": 483
    },
    "executionInfo": {
     "elapsed": 1803,
     "status": "ok",
     "timestamp": 1616717454717,
     "user": {
      "displayName": "Manoela Kohler",
      "photoUrl": "https://lh3.googleusercontent.com/a-/AOh14GgpjFfRi8xG4d4lZE0zAaod1dKX0hNyW0qOMUifpA=s64",
      "userId": "11407817634634210712"
     },
     "user_tz": 180
    },
    "id": "4p301hXjcGO6",
    "outputId": "e0b99bf7-5f51-4f32-afd5-9568518879f1"
   },
   "outputs": [
    {
     "data": {
      "image/png": "[encoded data removed]",
      "text/plain": [
       "<Figure size 720x576 with 1 Axes>"
      ]
     },
     "metadata": {
      "needs_background": "light"
     },
     "output_type": "display_data"
    }
   ],
   "source": [
    "# Gráfico da separação dos grupos formados\n",
    "plt.figure(figsize=(10,8))\n",
    "fig = plt.scatter(x=df['AnnualIncome'], y=df['SpendingScore'], c=model.labels_, cmap='Spectral')\n",
    "handles, labels = fig.legend_elements(prop=\"colors\")\n",
    "plt.legend(handles, labels, loc='center right', bbox_to_anchor=(1.2, 0.5), title='Cor')\n",
    "plt.show()"
   ]
  },
  {
   "cell_type": "code",
   "execution_count": null,
   "metadata": {
    "id": "IQCaibWzIAly"
   },
   "outputs": [],
   "source": []
  }
 ],
 "metadata": {
  "colab": {
   "collapsed_sections": [],
   "name": "Hierarquico_Mall.ipynb",
   "provenance": []
  },
  "kernelspec": {
   "display_name": "Python 3 (ipykernel)",
   "language": "python",
   "name": "python3"
  },
  "language_info": {
   "codemirror_mode": {
    "name": "ipython",
    "version": 3
   },
   "file_extension": ".py",
   "mimetype": "text/x-python",
   "name": "python",
   "nbconvert_exporter": "python",
   "pygments_lexer": "ipython3",
   "version": "3.8.11"
  },
  "toc": {
   "base_numbering": 1,
   "nav_menu": {},
   "number_sections": true,
   "sideBar": true,
   "skip_h1_title": false,
   "title_cell": "Table of Contents",
   "title_sidebar": "Contents",
   "toc_cell": false,
   "toc_position": {},
   "toc_section_display": true,
   "toc_window_display": false
  }
 },
 "nbformat": 4,
 "nbformat_minor": 1
}
