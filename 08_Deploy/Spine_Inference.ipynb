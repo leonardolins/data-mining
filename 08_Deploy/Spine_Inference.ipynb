{
 "cells": [
  {
   "cell_type": "markdown",
   "metadata": {
    "id": "60LawdXJecXl"
   },
   "source": [
    "# Estamos em ambiente de produção. \n",
    "\n",
    "\n",
    "\n",
    "1.   Carregaremos o modelo treinado\n",
    "2.   Carregaremos novos dados a serem inferidos\n",
    "3.   Faremos as inferências\n",
    "4.   FIM\n",
    "\n",
    "\n"
   ]
  },
  {
   "cell_type": "code",
   "execution_count": 5,
   "metadata": {
    "ExecuteTime": {
     "end_time": "2021-12-02T03:28:40.328422Z",
     "start_time": "2021-12-02T03:28:40.307339Z"
    },
    "id": "e5cJEiWoeYqp"
   },
   "outputs": [],
   "source": [
    "# 1. Carregaremos o modelo treinado\n",
    "import pickle\n",
    "filename = 'model.sav'\n",
    "model = pickle.load(open(filename, 'rb'))"
   ]
  },
  {
   "cell_type": "code",
   "execution_count": 6,
   "metadata": {
    "ExecuteTime": {
     "end_time": "2021-12-02T03:28:41.109237Z",
     "start_time": "2021-12-02T03:28:40.811390Z"
    },
    "colab": {
     "base_uri": "https://localhost:8080/",
     "height": 202
    },
    "executionInfo": {
     "elapsed": 655,
     "status": "ok",
     "timestamp": 1607609910201,
     "user": {
      "displayName": "Manoela Kohler",
      "photoUrl": "https://lh3.googleusercontent.com/a-/AOh14GjqDjlnKw7ewANjM6KEso5YFHECTOUU1KkP0vyyzJ0=s64",
      "userId": "02967855148338324274"
     },
     "user_tz": 180
    },
    "id": "_LEaXASefAqk",
    "outputId": "1365bf72-e005-4d35-9de3-f2630c4bb654"
   },
   "outputs": [
    {
     "data": {
      "text/html": [
       "<div>\n",
       "<style scoped>\n",
       "    .dataframe tbody tr th:only-of-type {\n",
       "        vertical-align: middle;\n",
       "    }\n",
       "\n",
       "    .dataframe tbody tr th {\n",
       "        vertical-align: top;\n",
       "    }\n",
       "\n",
       "    .dataframe thead th {\n",
       "        text-align: right;\n",
       "    }\n",
       "</style>\n",
       "<table border=\"1\" class=\"dataframe\">\n",
       "  <thead>\n",
       "    <tr style=\"text-align: right;\">\n",
       "      <th></th>\n",
       "      <th>Col1</th>\n",
       "      <th>Col2</th>\n",
       "      <th>Col3</th>\n",
       "      <th>Col4</th>\n",
       "      <th>Col5</th>\n",
       "      <th>Col6</th>\n",
       "      <th>Col7</th>\n",
       "      <th>Col8</th>\n",
       "      <th>Col9</th>\n",
       "      <th>Col10</th>\n",
       "      <th>Col11</th>\n",
       "      <th>Col12</th>\n",
       "    </tr>\n",
       "  </thead>\n",
       "  <tbody>\n",
       "    <tr>\n",
       "      <th>0</th>\n",
       "      <td>80.111572</td>\n",
       "      <td>33.942432</td>\n",
       "      <td>85.101608</td>\n",
       "      <td>46.169139</td>\n",
       "      <td>125.593624</td>\n",
       "      <td>100.292107</td>\n",
       "      <td>0.088561</td>\n",
       "      <td>11.6503</td>\n",
       "      <td>16.1451</td>\n",
       "      <td>9.69950</td>\n",
       "      <td>4.446480</td>\n",
       "      <td>36.0749</td>\n",
       "    </tr>\n",
       "    <tr>\n",
       "      <th>1</th>\n",
       "      <td>95.480229</td>\n",
       "      <td>46.550053</td>\n",
       "      <td>59.000000</td>\n",
       "      <td>48.930176</td>\n",
       "      <td>96.683903</td>\n",
       "      <td>77.283072</td>\n",
       "      <td>0.778848</td>\n",
       "      <td>29.8380</td>\n",
       "      <td>14.5939</td>\n",
       "      <td>12.22450</td>\n",
       "      <td>-21.695815</td>\n",
       "      <td>38.7849</td>\n",
       "    </tr>\n",
       "    <tr>\n",
       "      <th>2</th>\n",
       "      <td>45.701789</td>\n",
       "      <td>10.659859</td>\n",
       "      <td>42.577846</td>\n",
       "      <td>35.041929</td>\n",
       "      <td>130.178314</td>\n",
       "      <td>-3.388910</td>\n",
       "      <td>0.990034</td>\n",
       "      <td>26.6333</td>\n",
       "      <td>18.3694</td>\n",
       "      <td>16.44832</td>\n",
       "      <td>-13.438814</td>\n",
       "      <td>34.2846</td>\n",
       "    </tr>\n",
       "    <tr>\n",
       "      <th>3</th>\n",
       "      <td>38.046551</td>\n",
       "      <td>8.301669</td>\n",
       "      <td>26.236830</td>\n",
       "      <td>29.744881</td>\n",
       "      <td>123.803413</td>\n",
       "      <td>3.885773</td>\n",
       "      <td>0.933378</td>\n",
       "      <td>14.7528</td>\n",
       "      <td>11.1235</td>\n",
       "      <td>11.05746</td>\n",
       "      <td>5.412408</td>\n",
       "      <td>38.2581</td>\n",
       "    </tr>\n",
       "    <tr>\n",
       "      <th>4</th>\n",
       "      <td>43.436451</td>\n",
       "      <td>10.095743</td>\n",
       "      <td>36.032224</td>\n",
       "      <td>33.340707</td>\n",
       "      <td>137.439694</td>\n",
       "      <td>-3.114451</td>\n",
       "      <td>0.283589</td>\n",
       "      <td>36.0097</td>\n",
       "      <td>11.0132</td>\n",
       "      <td>8.51675</td>\n",
       "      <td>-23.904190</td>\n",
       "      <td>35.0749</td>\n",
       "    </tr>\n",
       "  </tbody>\n",
       "</table>\n",
       "</div>"
      ],
      "text/plain": [
       "        Col1       Col2       Col3       Col4        Col5        Col6  \\\n",
       "0  80.111572  33.942432  85.101608  46.169139  125.593624  100.292107   \n",
       "1  95.480229  46.550053  59.000000  48.930176   96.683903   77.283072   \n",
       "2  45.701789  10.659859  42.577846  35.041929  130.178314   -3.388910   \n",
       "3  38.046551   8.301669  26.236830  29.744881  123.803413    3.885773   \n",
       "4  43.436451  10.095743  36.032224  33.340707  137.439694   -3.114451   \n",
       "\n",
       "       Col7     Col8     Col9     Col10      Col11    Col12  \n",
       "0  0.088561  11.6503  16.1451   9.69950   4.446480  36.0749  \n",
       "1  0.778848  29.8380  14.5939  12.22450 -21.695815  38.7849  \n",
       "2  0.990034  26.6333  18.3694  16.44832 -13.438814  34.2846  \n",
       "3  0.933378  14.7528  11.1235  11.05746   5.412408  38.2581  \n",
       "4  0.283589  36.0097  11.0132   8.51675 -23.904190  35.0749  "
      ]
     },
     "execution_count": 6,
     "metadata": {},
     "output_type": "execute_result"
    }
   ],
   "source": [
    "# 2. Carregaremos novos dados a serem inferidos\n",
    "import pandas as pd\n",
    "new_data = pd.read_csv('Dataset_spine_unknown.csv')\n",
    "new_data.head()"
   ]
  },
  {
   "cell_type": "code",
   "execution_count": 7,
   "metadata": {
    "ExecuteTime": {
     "end_time": "2021-12-02T03:28:41.408662Z",
     "start_time": "2021-12-02T03:28:41.370764Z"
    },
    "colab": {
     "base_uri": "https://localhost:8080/"
    },
    "executionInfo": {
     "elapsed": 596,
     "status": "ok",
     "timestamp": 1607609914363,
     "user": {
      "displayName": "Manoela Kohler",
      "photoUrl": "https://lh3.googleusercontent.com/a-/AOh14GjqDjlnKw7ewANjM6KEso5YFHECTOUU1KkP0vyyzJ0=s64",
      "userId": "02967855148338324274"
     },
     "user_tz": 180
    },
    "id": "sWFbgpPzfAuY",
    "outputId": "e438b33f-e0af-4cfb-d812-f925e0459780"
   },
   "outputs": [
    {
     "name": "stdout",
     "output_type": "stream",
     "text": [
      "['Abnormal' 'Abnormal' 'Normal' 'Normal' 'Normal' 'Abnormal' 'Normal'\n",
      " 'Normal' 'Abnormal' 'Abnormal' 'Normal' 'Normal']\n"
     ]
    }
   ],
   "source": [
    "# 3. Faremos as inferências\n",
    "inferences = model.predict(new_data)\n",
    "print(inferences)"
   ]
  },
  {
   "cell_type": "code",
   "execution_count": 8,
   "metadata": {
    "ExecuteTime": {
     "end_time": "2021-12-02T03:28:43.265727Z",
     "start_time": "2021-12-02T03:28:43.210906Z"
    },
    "id": "zWrUy4ER_iOo"
   },
   "outputs": [],
   "source": [
    "# 4. Se quiser salvar em um csv\n",
    "new_data['inferencias'] = inferences\n",
    "pd.DataFrame(new_data).to_csv('results.csv')"
   ]
  },
  {
   "cell_type": "markdown",
   "metadata": {
    "id": "YUd2JaDMfkIY"
   },
   "source": [
    "# FIM"
   ]
  }
 ],
 "metadata": {
  "colab": {
   "collapsed_sections": [],
   "name": "Spine_Inference.ipynb",
   "provenance": []
  },
  "kernelspec": {
   "display_name": "Python 3 (ipykernel)",
   "language": "python",
   "name": "python3"
  },
  "language_info": {
   "codemirror_mode": {
    "name": "ipython",
    "version": 3
   },
   "file_extension": ".py",
   "mimetype": "text/x-python",
   "name": "python",
   "nbconvert_exporter": "python",
   "pygments_lexer": "ipython3",
   "version": "3.8.11"
  },
  "toc": {
   "base_numbering": 1,
   "nav_menu": {},
   "number_sections": true,
   "sideBar": true,
   "skip_h1_title": false,
   "title_cell": "Table of Contents",
   "title_sidebar": "Contents",
   "toc_cell": false,
   "toc_position": {},
   "toc_section_display": true,
   "toc_window_display": false
  }
 },
 "nbformat": 4,
 "nbformat_minor": 1
}
